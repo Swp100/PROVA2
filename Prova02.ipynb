{
 "cells": [
  {
   "cell_type": "code",
   "execution_count": 45,
   "id": "6b3931bb-7724-4053-b2ed-86e722033ff1",
   "metadata": {},
   "outputs": [],
   "source": [
    "def selection_sort(arr):\n",
    "    for i in range(len(arr)):\n",
    "        min_idx = i\n",
    "        for j in range(i + 1, len(arr)):\n",
    "            if arr[j] < arr[min_idx]:\n",
    "                min_idx = j\n",
    "        arr[i], arr[min_idx] = arr[min_idx], arr[i]\n",
    "    return arr"
   ]
  },
  {
   "cell_type": "code",
   "execution_count": 47,
   "id": "5c1a93cc-16e1-401e-b048-48042d8672f8",
   "metadata": {},
   "outputs": [],
   "source": [
    "def find_max(lista_ordenada):\n",
    "    if not lista_ordenada:\n",
    "        return None  # ou lançar um erro\n",
    "    return lista_ordenada[-1]  # último elemento da lista ordenada\n"
   ]
  },
  {
   "cell_type": "code",
   "execution_count": 49,
   "id": "cde3187b-199e-46aa-a50b-e1b857722fa2",
   "metadata": {},
   "outputs": [],
   "source": [
    "#Lista de exemplo\n",
    "Lista = [29, 10, 14, 37, 13]"
   ]
  },
  {
   "cell_type": "code",
   "execution_count": 51,
   "id": "9573b54b-3f1a-4492-a1fa-07e8b59c0ab5",
   "metadata": {},
   "outputs": [
    {
     "name": "stdout",
     "output_type": "stream",
     "text": [
      "lista ordenada: [10, 13, 14, 29, 37]\n"
     ]
    }
   ],
   "source": [
    "sorted_List = selection_sort(Lista)\n",
    "print(\"lista ordenada:\", sorted_List)"
   ]
  },
  {
   "cell_type": "code",
   "execution_count": 53,
   "id": "51384d6f-4811-4176-bea2-d71e062ad044",
   "metadata": {},
   "outputs": [
    {
     "name": "stdout",
     "output_type": "stream",
     "text": [
      "Maior elemento: 37\n"
     ]
    }
   ],
   "source": [
    "# Utilização do método find_max\n",
    "print(\"Maior elemento:\", find_max(sorted_List))"
   ]
  },
  {
   "cell_type": "code",
   "execution_count": null,
   "id": "8023dc90-5f77-4bbe-ab77-c57671e2bb64",
   "metadata": {},
   "outputs": [],
   "source": []
  }
 ],
 "metadata": {
  "kernelspec": {
   "display_name": "Python [conda env:base] *",
   "language": "python",
   "name": "conda-base-py"
  },
  "language_info": {
   "codemirror_mode": {
    "name": "ipython",
    "version": 3
   },
   "file_extension": ".py",
   "mimetype": "text/x-python",
   "name": "python",
   "nbconvert_exporter": "python",
   "pygments_lexer": "ipython3",
   "version": "3.12.7"
  }
 },
 "nbformat": 4,
 "nbformat_minor": 5
}
